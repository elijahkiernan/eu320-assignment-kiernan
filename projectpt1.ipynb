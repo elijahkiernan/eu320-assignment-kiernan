{
 "cells": [
  {
   "cell_type": "markdown",
   "id": "8b4eaeee-669f-4303-ba7d-95f5d8ae278b",
   "metadata": {},
   "source": [
    "## Introduction to Data\n",
    "This dataset will be able to explore relationships between surfboards, diffrenent surfing characteristics, and wave conditions.\n",
    "The goald of this project will be able to understand the factors that go into chooosing the right type of surfboard for your body \n",
    "type and wave type. The main data that will be discues indluded variabls relating to surfboard design like; length, and type.\n",
    "The other variables rekated to surfer attributes, such as height, weight, and style. \n",
    "\n",
    "\n",
    "This data set was created by Guilherme Loureiro & Rodrigo Schmidt Lucchesi and can be found on \n",
    "kaggle at https://www.kaggle.com/datasets/loureiro85/surfing\n",
    "\n",
    "\n",
    "Here are 3 potential research questions that this dataset can help answer: \n",
    "1. How does a surfer's body type, like hight and weight, influence the type of board that suits them the best?\n",
    "\n",
    "2. Can a surfers preffered perfmance help them decide the most suitable board for them, if they prefer a more relaxed style\n",
    "   or more agresseive.\n",
    "\n",
    "4. What surfbaords for different wave conditions are the most appropriate, and factors of this could be height or shape. \n",
    "\n",
    "\n",
    "Definition of the variables(Codebook):\n",
    "board_type - The diffenet classes of boards are split into; 'Shortboard', 'All-around', 'Funboard', 'Groveler', 'Semi-gun', and 'Fish'.\n",
    "\n",
    "board_length - The length of the board is mesured in meters. \n",
    "\n",
    "surfer_weight - The weight of the surfer is measured in kilograms. \n",
    "\n",
    "surfer_style - The style of the surfer is descrided as; neutral, smooth(recreative) agressive(comptetitive), or I don't know. \n",
    "\n",
    "wave_height_mean - The mean of the wave hight is measured in feet.\n",
    "\n",
    "wave_shape - Wave shapes are defined by spilling or plunging. \n",
    "\n"
   ]
  },
  {
   "cell_type": "markdown",
   "id": "452b2783-0700-4195-8534-cab1cbeda444",
   "metadata": {},
   "source": []
  },
  {
   "cell_type": "markdown",
   "id": "f6e2279c-64d1-43a8-b7f1-b950d817a647",
   "metadata": {},
   "source": []
  },
  {
   "cell_type": "code",
   "execution_count": 96,
   "id": "e818d835-d580-4e85-890a-3191e991dd00",
   "metadata": {},
   "outputs": [],
   "source": [
    "import numpy as np"
   ]
  },
  {
   "cell_type": "code",
   "execution_count": 97,
   "id": "2e47c705-8acd-4f4d-bd9b-5e67ee1670ad",
   "metadata": {},
   "outputs": [],
   "source": [
    "import pandas as pd"
   ]
  },
  {
   "cell_type": "code",
   "execution_count": 98,
   "id": "edefd7ee-66cd-4628-a2b8-2e94dd8909f7",
   "metadata": {},
   "outputs": [],
   "source": [
    "surf = pd.read_csv('surf.csv')"
   ]
  },
  {
   "cell_type": "code",
   "execution_count": 99,
   "id": "ef51b00f-89d1-42b1-ba30-4548283805ed",
   "metadata": {},
   "outputs": [
    {
     "data": {
      "text/html": [
       "<div>\n",
       "<style scoped>\n",
       "    .dataframe tbody tr th:only-of-type {\n",
       "        vertical-align: middle;\n",
       "    }\n",
       "\n",
       "    .dataframe tbody tr th {\n",
       "        vertical-align: top;\n",
       "    }\n",
       "\n",
       "    .dataframe thead th {\n",
       "        text-align: right;\n",
       "    }\n",
       "</style>\n",
       "<table border=\"1\" class=\"dataframe\">\n",
       "  <thead>\n",
       "    <tr style=\"text-align: right;\">\n",
       "      <th></th>\n",
       "      <th>Unnamed: 0</th>\n",
       "      <th>board_adequate</th>\n",
       "      <th>board_how_many</th>\n",
       "      <th>board_length</th>\n",
       "      <th>board_nose_rocker</th>\n",
       "      <th>board_nose_shape</th>\n",
       "      <th>board_tail_rocker</th>\n",
       "      <th>board_tail_shape</th>\n",
       "      <th>board_thickness</th>\n",
       "      <th>board_type</th>\n",
       "      <th>...</th>\n",
       "      <th>surfer_height</th>\n",
       "      <th>surfer_style</th>\n",
       "      <th>surfer_weight</th>\n",
       "      <th>surfer_weight_distribution</th>\n",
       "      <th>wave_height</th>\n",
       "      <th>wave_shape</th>\n",
       "      <th>wave_height_min</th>\n",
       "      <th>wave_height_max</th>\n",
       "      <th>wave_height_mean</th>\n",
       "      <th>wave_height_interval</th>\n",
       "    </tr>\n",
       "  </thead>\n",
       "  <tbody>\n",
       "    <tr>\n",
       "      <th>0</th>\n",
       "      <td>0</td>\n",
       "      <td>More or less</td>\n",
       "      <td>5.0</td>\n",
       "      <td>1.8034</td>\n",
       "      <td>4.75</td>\n",
       "      <td>Pointed</td>\n",
       "      <td>2.3125</td>\n",
       "      <td>Outward (Round, Round-Pin, Pin)</td>\n",
       "      <td>2.3125</td>\n",
       "      <td>Shortboard</td>\n",
       "      <td>...</td>\n",
       "      <td>1.72</td>\n",
       "      <td>Neutral</td>\n",
       "      <td>78.0</td>\n",
       "      <td>NaN</td>\n",
       "      <td>3</td>\n",
       "      <td>Spilling/Plunging</td>\n",
       "      <td>3.0</td>\n",
       "      <td>3.0</td>\n",
       "      <td>3.0</td>\n",
       "      <td>0.0</td>\n",
       "    </tr>\n",
       "    <tr>\n",
       "      <th>1</th>\n",
       "      <td>1</td>\n",
       "      <td>More or less</td>\n",
       "      <td>1.0</td>\n",
       "      <td>1.9304</td>\n",
       "      <td>NaN</td>\n",
       "      <td>Pointed</td>\n",
       "      <td>NaN</td>\n",
       "      <td>Neutral (Squash, Square)</td>\n",
       "      <td>NaN</td>\n",
       "      <td>All-around</td>\n",
       "      <td>...</td>\n",
       "      <td>1.58</td>\n",
       "      <td>Smooth (recreative)</td>\n",
       "      <td>54.0</td>\n",
       "      <td>NaN</td>\n",
       "      <td>2</td>\n",
       "      <td>Spilling</td>\n",
       "      <td>2.0</td>\n",
       "      <td>2.0</td>\n",
       "      <td>2.0</td>\n",
       "      <td>0.0</td>\n",
       "    </tr>\n",
       "    <tr>\n",
       "      <th>2</th>\n",
       "      <td>2</td>\n",
       "      <td>Very suitable</td>\n",
       "      <td>3.0</td>\n",
       "      <td>1.7272</td>\n",
       "      <td>NaN</td>\n",
       "      <td>Pointed</td>\n",
       "      <td>NaN</td>\n",
       "      <td>Neutral (Squash, Square)</td>\n",
       "      <td>2.5625</td>\n",
       "      <td>Shortboard</td>\n",
       "      <td>...</td>\n",
       "      <td>1.73</td>\n",
       "      <td>Neutral</td>\n",
       "      <td>75.0</td>\n",
       "      <td>NaN</td>\n",
       "      <td>2, 5</td>\n",
       "      <td>Spilling, Spilling/Plunging, Plunging</td>\n",
       "      <td>2.0</td>\n",
       "      <td>5.0</td>\n",
       "      <td>3.5</td>\n",
       "      <td>3.0</td>\n",
       "    </tr>\n",
       "    <tr>\n",
       "      <th>3</th>\n",
       "      <td>3</td>\n",
       "      <td>Very suitable</td>\n",
       "      <td>1.0</td>\n",
       "      <td>1.8034</td>\n",
       "      <td>NaN</td>\n",
       "      <td>Pointed</td>\n",
       "      <td>NaN</td>\n",
       "      <td>Neutral (Squash, Square)</td>\n",
       "      <td>2.4375</td>\n",
       "      <td>Shortboard</td>\n",
       "      <td>...</td>\n",
       "      <td>1.76</td>\n",
       "      <td>Neutral</td>\n",
       "      <td>76.0</td>\n",
       "      <td>NaN</td>\n",
       "      <td>3, 6</td>\n",
       "      <td>Spilling, Spilling/Plunging, Plunging</td>\n",
       "      <td>3.0</td>\n",
       "      <td>6.0</td>\n",
       "      <td>4.5</td>\n",
       "      <td>3.0</td>\n",
       "    </tr>\n",
       "    <tr>\n",
       "      <th>4</th>\n",
       "      <td>4</td>\n",
       "      <td>Suitable</td>\n",
       "      <td>5.0</td>\n",
       "      <td>1.7780</td>\n",
       "      <td>NaN</td>\n",
       "      <td>Pointed</td>\n",
       "      <td>NaN</td>\n",
       "      <td>Inward (Fish-tail, Swallow,  Bat wing, Half moon)</td>\n",
       "      <td>NaN</td>\n",
       "      <td>All-around</td>\n",
       "      <td>...</td>\n",
       "      <td>1.77</td>\n",
       "      <td>Neutral</td>\n",
       "      <td>84.0</td>\n",
       "      <td>NaN</td>\n",
       "      <td>5</td>\n",
       "      <td>Spilling/Plunging</td>\n",
       "      <td>5.0</td>\n",
       "      <td>5.0</td>\n",
       "      <td>5.0</td>\n",
       "      <td>0.0</td>\n",
       "    </tr>\n",
       "  </tbody>\n",
       "</table>\n",
       "<p>5 rows × 44 columns</p>\n",
       "</div>"
      ],
      "text/plain": [
       "   Unnamed: 0 board_adequate  board_how_many  board_length  board_nose_rocker  \\\n",
       "0           0   More or less             5.0        1.8034               4.75   \n",
       "1           1   More or less             1.0        1.9304                NaN   \n",
       "2           2  Very suitable             3.0        1.7272                NaN   \n",
       "3           3  Very suitable             1.0        1.8034                NaN   \n",
       "4           4       Suitable             5.0        1.7780                NaN   \n",
       "\n",
       "  board_nose_shape  board_tail_rocker  \\\n",
       "0          Pointed             2.3125   \n",
       "1          Pointed                NaN   \n",
       "2          Pointed                NaN   \n",
       "3          Pointed                NaN   \n",
       "4          Pointed                NaN   \n",
       "\n",
       "                                    board_tail_shape  board_thickness  \\\n",
       "0                    Outward (Round, Round-Pin, Pin)           2.3125   \n",
       "1                           Neutral (Squash, Square)              NaN   \n",
       "2                           Neutral (Squash, Square)           2.5625   \n",
       "3                           Neutral (Squash, Square)           2.4375   \n",
       "4  Inward (Fish-tail, Swallow,  Bat wing, Half moon)              NaN   \n",
       "\n",
       "   board_type  ...  surfer_height         surfer_style surfer_weight  \\\n",
       "0  Shortboard  ...           1.72              Neutral          78.0   \n",
       "1  All-around  ...           1.58  Smooth (recreative)          54.0   \n",
       "2  Shortboard  ...           1.73              Neutral          75.0   \n",
       "3  Shortboard  ...           1.76              Neutral          76.0   \n",
       "4  All-around  ...           1.77              Neutral          84.0   \n",
       "\n",
       "  surfer_weight_distribution wave_height  \\\n",
       "0                        NaN           3   \n",
       "1                        NaN           2   \n",
       "2                        NaN        2, 5   \n",
       "3                        NaN        3, 6   \n",
       "4                        NaN           5   \n",
       "\n",
       "                              wave_shape wave_height_min wave_height_max  \\\n",
       "0                      Spilling/Plunging             3.0             3.0   \n",
       "1                               Spilling             2.0             2.0   \n",
       "2  Spilling, Spilling/Plunging, Plunging             2.0             5.0   \n",
       "3  Spilling, Spilling/Plunging, Plunging             3.0             6.0   \n",
       "4                      Spilling/Plunging             5.0             5.0   \n",
       "\n",
       "  wave_height_mean wave_height_interval  \n",
       "0              3.0                  0.0  \n",
       "1              2.0                  0.0  \n",
       "2              3.5                  3.0  \n",
       "3              4.5                  3.0  \n",
       "4              5.0                  0.0  \n",
       "\n",
       "[5 rows x 44 columns]"
      ]
     },
     "execution_count": 99,
     "metadata": {},
     "output_type": "execute_result"
    }
   ],
   "source": [
    "df = pd.DataFrame(surf)\n",
    "surf.head()"
   ]
  },
  {
   "cell_type": "code",
   "execution_count": 100,
   "id": "6211ca07-8fbf-488d-941c-0e20a096c113",
   "metadata": {},
   "outputs": [],
   "source": [
    "# Selecting the variables that I want to study in this from this dataset.\n",
    "# Then creating a copy so the original dataset is not altered. \n",
    "chosen_variables = ['board_type', 'board_length',\n",
    "        'surfer_weight', 'wave_height_mean', \n",
    "        'surfer_style', 'wave_shape']\n",
    "\n",
    "surfing = df[chosen_variables].copy()"
   ]
  },
  {
   "cell_type": "code",
   "execution_count": 101,
   "id": "81342216-c3cb-43f5-830a-be0f86a8e17e",
   "metadata": {},
   "outputs": [
    {
     "data": {
      "text/html": [
       "<div>\n",
       "<style scoped>\n",
       "    .dataframe tbody tr th:only-of-type {\n",
       "        vertical-align: middle;\n",
       "    }\n",
       "\n",
       "    .dataframe tbody tr th {\n",
       "        vertical-align: top;\n",
       "    }\n",
       "\n",
       "    .dataframe thead th {\n",
       "        text-align: right;\n",
       "    }\n",
       "</style>\n",
       "<table border=\"1\" class=\"dataframe\">\n",
       "  <thead>\n",
       "    <tr style=\"text-align: right;\">\n",
       "      <th></th>\n",
       "      <th>board_type</th>\n",
       "      <th>board_length</th>\n",
       "      <th>surfer_weight</th>\n",
       "      <th>wave_height_mean</th>\n",
       "      <th>surfer_style</th>\n",
       "      <th>wave_shape</th>\n",
       "    </tr>\n",
       "  </thead>\n",
       "  <tbody>\n",
       "    <tr>\n",
       "      <th>0</th>\n",
       "      <td>Shortboard</td>\n",
       "      <td>1.8034</td>\n",
       "      <td>78.0</td>\n",
       "      <td>3.0</td>\n",
       "      <td>Neutral</td>\n",
       "      <td>Spilling/Plunging</td>\n",
       "    </tr>\n",
       "    <tr>\n",
       "      <th>1</th>\n",
       "      <td>All-around</td>\n",
       "      <td>1.9304</td>\n",
       "      <td>54.0</td>\n",
       "      <td>2.0</td>\n",
       "      <td>Smooth (recreative)</td>\n",
       "      <td>Spilling</td>\n",
       "    </tr>\n",
       "    <tr>\n",
       "      <th>2</th>\n",
       "      <td>Shortboard</td>\n",
       "      <td>1.7272</td>\n",
       "      <td>75.0</td>\n",
       "      <td>3.5</td>\n",
       "      <td>Neutral</td>\n",
       "      <td>Spilling, Spilling/Plunging, Plunging</td>\n",
       "    </tr>\n",
       "    <tr>\n",
       "      <th>3</th>\n",
       "      <td>Shortboard</td>\n",
       "      <td>1.8034</td>\n",
       "      <td>76.0</td>\n",
       "      <td>4.5</td>\n",
       "      <td>Neutral</td>\n",
       "      <td>Spilling, Spilling/Plunging, Plunging</td>\n",
       "    </tr>\n",
       "    <tr>\n",
       "      <th>4</th>\n",
       "      <td>All-around</td>\n",
       "      <td>1.7780</td>\n",
       "      <td>84.0</td>\n",
       "      <td>5.0</td>\n",
       "      <td>Neutral</td>\n",
       "      <td>Spilling/Plunging</td>\n",
       "    </tr>\n",
       "  </tbody>\n",
       "</table>\n",
       "</div>"
      ],
      "text/plain": [
       "   board_type  board_length  surfer_weight  wave_height_mean  \\\n",
       "0  Shortboard        1.8034           78.0               3.0   \n",
       "1  All-around        1.9304           54.0               2.0   \n",
       "2  Shortboard        1.7272           75.0               3.5   \n",
       "3  Shortboard        1.8034           76.0               4.5   \n",
       "4  All-around        1.7780           84.0               5.0   \n",
       "\n",
       "          surfer_style                             wave_shape  \n",
       "0              Neutral                      Spilling/Plunging  \n",
       "1  Smooth (recreative)                               Spilling  \n",
       "2              Neutral  Spilling, Spilling/Plunging, Plunging  \n",
       "3              Neutral  Spilling, Spilling/Plunging, Plunging  \n",
       "4              Neutral                      Spilling/Plunging  "
      ]
     },
     "execution_count": 101,
     "metadata": {},
     "output_type": "execute_result"
    }
   ],
   "source": [
    "surfing.head()"
   ]
  },
  {
   "cell_type": "code",
   "execution_count": 102,
   "id": "fe121ccc-aba2-4b97-baa1-f92116430904",
   "metadata": {},
   "outputs": [
    {
     "data": {
      "text/plain": [
       "board_type          0\n",
       "board_length        8\n",
       "surfer_weight       3\n",
       "wave_height_mean    1\n",
       "surfer_style        0\n",
       "wave_shape          0\n",
       "dtype: int64"
      ]
     },
     "execution_count": 102,
     "metadata": {},
     "output_type": "execute_result"
    }
   ],
   "source": [
    "## Finding the amount of missing inputus(nan) in the dataset for each variable.\n",
    "surfing.isna().sum() "
   ]
  },
  {
   "cell_type": "code",
   "execution_count": 103,
   "id": "2615e9f9-9dd8-4783-bf55-fe13c0e23657",
   "metadata": {},
   "outputs": [
    {
     "data": {
      "text/plain": [
       "np.int64(9)"
      ]
     },
     "execution_count": 103,
     "metadata": {},
     "output_type": "execute_result"
    }
   ],
   "source": [
    "## Finding the amount of duplicated values in the dataset. \n",
    "surfing.duplicated().sum()"
   ]
  },
  {
   "cell_type": "code",
   "execution_count": 104,
   "id": "27fb0371-cb69-4df6-b675-441092670c03",
   "metadata": {},
   "outputs": [
    {
     "data": {
      "text/plain": [
       "np.int64(156)"
      ]
     },
     "execution_count": 104,
     "metadata": {},
     "output_type": "execute_result"
    }
   ],
   "source": [
    "# Counting to see how many inputs there are for board length. \n",
    "surfing['board_length'].count()"
   ]
  },
  {
   "cell_type": "code",
   "execution_count": 105,
   "id": "d4435132-72f8-4222-b001-bedac2c85a18",
   "metadata": {},
   "outputs": [],
   "source": [
    "## Beginning to clean up the data. \n",
    "surfing['board_length'] = surfing.groupby('board_type')['board_length'].transform(lambda x: x.fillna(x.mean()))\n",
    "## Used LLM to help me understand how to write this so I can replace the missing values with an avg board length for each board type."
   ]
  },
  {
   "cell_type": "code",
   "execution_count": 106,
   "id": "36311353-c2df-4395-ac93-38a4462562b8",
   "metadata": {},
   "outputs": [],
   "source": [
    "# Replacing the missing values for surfer weight with the mean.\n",
    "surfing['surfer_weight'] = surfing['surfer_weight'].fillna(surfing['surfer_weight'].mean())"
   ]
  },
  {
   "cell_type": "code",
   "execution_count": 107,
   "id": "b27716a8-0036-432e-a7c1-159a44870e6d",
   "metadata": {},
   "outputs": [],
   "source": [
    "# Replaced missing value for wave height mean, with the mean. \n",
    "surfing['wave_height_mean'] = surfing['wave_height_mean'].fillna(surfing['wave_height_mean'].mean())\n"
   ]
  },
  {
   "cell_type": "code",
   "execution_count": 108,
   "id": "f20419d3-b5c7-443a-92a3-cd1a2f99c842",
   "metadata": {},
   "outputs": [
    {
     "data": {
      "text/plain": [
       "board_type          0\n",
       "board_length        0\n",
       "surfer_weight       0\n",
       "wave_height_mean    0\n",
       "surfer_style        0\n",
       "wave_shape          0\n",
       "dtype: int64"
      ]
     },
     "execution_count": 108,
     "metadata": {},
     "output_type": "execute_result"
    }
   ],
   "source": [
    "# Checking for missing values again. \n",
    "surfing.isna().sum() "
   ]
  },
  {
   "cell_type": "code",
   "execution_count": 115,
   "id": "aa9b7fab-25c2-4522-8aec-6f952504e50d",
   "metadata": {},
   "outputs": [],
   "source": [
    "# Saving the cleaned surfing data to a new csv. \n",
    "surfing.to_csv('cleaned_surfing_data.csv', index = False)"
   ]
  },
  {
   "cell_type": "markdown",
   "id": "c1afd9dc-a00e-4537-a665-d8062bf04940",
   "metadata": {},
   "source": [
    "Principles of Data Managment:\n",
    "Data Cleaning/Screening - I had to screen the data to find missing values and also to see if something stuck out dramatically. One example of this was how I filled the missing values of board_length using the mean value by board_length. \n",
    "Documentation - I documented all changes made, so that it can be easily understood for someone who might not understand exactly what the code is doing. \n",
    "\n",
    "Principles of File managment:\n",
    "Orginization - I tried to keep this orginized and neat so that it can easily be navigated and understood. \n",
    "File Naming 2 - I kept the file names relitvie and clear, for example 'cleaned_surfing_data.csv' implies that this file has clean data. \n",
    "\n",
    "Usage of LLM: The only part an LLM was used was to be able to help me understand how to replace the missing values with an avg board length for each board type."
   ]
  },
  {
   "cell_type": "code",
   "execution_count": null,
   "id": "675581f1-36ce-4711-9d25-6ada5ce9c9ad",
   "metadata": {},
   "outputs": [],
   "source": []
  }
 ],
 "metadata": {
  "kernelspec": {
   "display_name": "Python [conda env:base] *",
   "language": "python",
   "name": "conda-base-py"
  },
  "language_info": {
   "codemirror_mode": {
    "name": "ipython",
    "version": 3
   },
   "file_extension": ".py",
   "mimetype": "text/x-python",
   "name": "python",
   "nbconvert_exporter": "python",
   "pygments_lexer": "ipython3",
   "version": "3.13.5"
  }
 },
 "nbformat": 4,
 "nbformat_minor": 5
}
